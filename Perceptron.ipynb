{
 "cells": [
  {
   "cell_type": "code",
   "execution_count": 57,
   "metadata": {
    "collapsed": false
   },
   "outputs": [
    {
     "name": "stdout",
     "output_type": "stream",
     "text": [
      "Populating the interactive namespace from numpy and matplotlib\n"
     ]
    },
    {
     "name": "stderr",
     "output_type": "stream",
     "text": [
      "WARNING: pylab import has clobbered these variables: ['random', 'plt']\n",
      "`%matplotlib` prevents importing * from pylab and numpy\n"
     ]
    }
   ],
   "source": [
    "import pandas as pd\n",
    "import math\n",
    "import random\n",
    "import time\n",
    "import pylab as plt\n",
    "import numpy as np\n",
    "\n",
    "%pylab inline"
   ]
  },
  {
   "cell_type": "code",
   "execution_count": 2,
   "metadata": {
    "collapsed": false
   },
   "outputs": [],
   "source": [
    "df = pd.DataFrame(columns=['x1','x2','t'])\n",
    "df.loc[0] = [1,-1,-1]\n",
    "df.loc[1] = [2,1,1]\n",
    "df.loc[2] = [1.5,.5,-1]\n",
    "df.loc[3] = [2,-1,-1]\n",
    "df.loc[4] = [1,2,1]\n",
    "df['bias'] = 1"
   ]
  },
  {
   "cell_type": "code",
   "execution_count": 3,
   "metadata": {
    "collapsed": false
   },
   "outputs": [],
   "source": [
    "class Perceptron:\n",
    "    \n",
    "    def __init__(self, w=[1,1,1]):\n",
    "        self.w = w\n",
    "    \n",
    "    def activate(self,x1,x2,bias):\n",
    "        if x1*self.w[0] + x2*self.w[1] + bias*self.w[2] > 0:\n",
    "            return 1\n",
    "        else:\n",
    "            return -1\n",
    "    \n",
    "    def train_perceptron(self,df,n=0.1):\n",
    "        self.w[0] = random.randint(-10,10)\n",
    "        self.w[1] = random.randint(-10,10)\n",
    "        while df.apply(lambda x: self.activate(x['x1'],x['x2'],x['bias'])!=x['t'],axis=1).sum() != 0:\n",
    "            for i in range(df.shape[0]):\n",
    "                xw = df.loc[i]['x1']*self.w[0] + df.loc[i]['x2']*self.w[1] + df.loc[i]['bias']*self.w[2]\n",
    "                error = df.loc[i][2] - math.copysign(1,xw-0.0000000001)\n",
    "                self.w[0] = self.w[0] + n*error*df.loc[i]['x1']\n",
    "                self.w[1] = self.w[1] + n*error*df.loc[i]['x2']\n",
    "                self.w[2] = self.w[2] + n*error*df.loc[i]['bias']\n",
    "#            print self.w"
   ]
  },
  {
   "cell_type": "code",
   "execution_count": 7,
   "metadata": {
    "collapsed": true
   },
   "outputs": [],
   "source": [
    "p = Perceptron()"
   ]
  },
  {
   "cell_type": "code",
   "execution_count": 8,
   "metadata": {
    "collapsed": false
   },
   "outputs": [
    {
     "data": {
      "text/plain": [
       "1"
      ]
     },
     "execution_count": 8,
     "metadata": {},
     "output_type": "execute_result"
    }
   ],
   "source": [
    "p.activate(1,2,3)"
   ]
  },
  {
   "cell_type": "code",
   "execution_count": 15,
   "metadata": {
    "collapsed": false
   },
   "outputs": [],
   "source": [
    "p.train_perceptron(df)"
   ]
  },
  {
   "cell_type": "code",
   "execution_count": 16,
   "metadata": {
    "collapsed": false
   },
   "outputs": [
    {
     "data": {
      "text/plain": [
       "[0.80000000000000004, 0.80000000000000104, -1.9999999999999993]"
      ]
     },
     "execution_count": 16,
     "metadata": {},
     "output_type": "execute_result"
    }
   ],
   "source": [
    "p.w"
   ]
  },
  {
   "cell_type": "code",
   "execution_count": 17,
   "metadata": {
    "collapsed": false
   },
   "outputs": [
    {
     "data": {
      "text/plain": [
       "0    True\n",
       "1    True\n",
       "2    True\n",
       "3    True\n",
       "4    True\n",
       "dtype: bool"
      ]
     },
     "execution_count": 17,
     "metadata": {},
     "output_type": "execute_result"
    }
   ],
   "source": [
    "df.apply(lambda x: p.activate(x['x1'],x['x2'],x['bias'])==x['t'],axis=1)"
   ]
  },
  {
   "cell_type": "code",
   "execution_count": 18,
   "metadata": {
    "collapsed": true
   },
   "outputs": [],
   "source": [
    "df2 = pd.DataFrame(columns=['x1','x2','t','bias'])\n",
    "for i in range(20):\n",
    "    df2.loc[i] = [random.randint(-5,5),random.randint(-5,5),0,1]\n",
    "df2['t'] = 2*((df2['x2'] - 1.2*df2['x1']) >= 0).astype(int) - 1"
   ]
  },
  {
   "cell_type": "code",
   "execution_count": 19,
   "metadata": {
    "collapsed": false
   },
   "outputs": [],
   "source": [
    "p2 = Perceptron()"
   ]
  },
  {
   "cell_type": "code",
   "execution_count": 20,
   "metadata": {
    "collapsed": false
   },
   "outputs": [],
   "source": [
    "p2.train_perceptron(df=df2)"
   ]
  },
  {
   "cell_type": "code",
   "execution_count": 130,
   "metadata": {
    "collapsed": false
   },
   "outputs": [],
   "source": [
    "#df2.apply(lambda x: p2.activate(x['x1'],x['x2'],x['bias'])==x['t'],axis=1)"
   ]
  },
  {
   "cell_type": "code",
   "execution_count": 29,
   "metadata": {
    "collapsed": false
   },
   "outputs": [
    {
     "name": "stdout",
     "output_type": "stream",
     "text": [
      "1.25072407722\n",
      "0.361785888672\n",
      "0.322104930878\n",
      "0.285783052444\n",
      "0.244760036469\n",
      "0.319604158401\n",
      "0.15947508812\n",
      "0.163478136063\n",
      "0.119740009308\n",
      "0.0790212154388\n",
      "0.0793650150299\n",
      "0.0444610118866\n",
      "0.0743210315704\n",
      "0.00261878967285\n",
      "0.0435259342194\n",
      "0.0413999557495\n",
      "0.0449230670929\n",
      "0.038153886795\n",
      "0.0774660110474\n",
      "0.0776858329773\n"
     ]
    }
   ],
   "source": [
    "for i in range(20):\n",
    "    start = time.time()\n",
    "    p2.train_perceptron(df=df2,n = float(i)/100 + 0.01)\n",
    "    print time.time() - start"
   ]
  },
  {
   "cell_type": "code",
   "execution_count": 30,
   "metadata": {
    "collapsed": true
   },
   "outputs": [],
   "source": [
    "#When the learning rate is very small, it takes longer for the algorithm to converge"
   ]
  },
  {
   "cell_type": "code",
   "execution_count": 148,
   "metadata": {
    "collapsed": true
   },
   "outputs": [],
   "source": [
    "#It produces different values of w each time, and training time varies randomly depending on the initialization of w.\n",
    "#However, it always converges."
   ]
  },
  {
   "cell_type": "code",
   "execution_count": 31,
   "metadata": {
    "collapsed": true
   },
   "outputs": [],
   "source": [
    "#x1 = -w[2] - x2*w[1] / w[0]"
   ]
  },
  {
   "cell_type": "code",
   "execution_count": 32,
   "metadata": {
    "collapsed": false
   },
   "outputs": [
    {
     "data": {
      "text/plain": [
       "-6.7333333333333298"
      ]
     },
     "execution_count": 32,
     "metadata": {},
     "output_type": "execute_result"
    }
   ],
   "source": [
    "(-p2.w[2] - (-6)*p2.w[1]) / p2.w[0]"
   ]
  },
  {
   "cell_type": "code",
   "execution_count": 33,
   "metadata": {
    "collapsed": false
   },
   "outputs": [
    {
     "data": {
      "text/plain": [
       "7.5523809523809522"
      ]
     },
     "execution_count": 33,
     "metadata": {},
     "output_type": "execute_result"
    }
   ],
   "source": [
    "(-p2.w[2] - (6)*p2.w[1]) / p2.w[0]"
   ]
  },
  {
   "cell_type": "code",
   "execution_count": 34,
   "metadata": {
    "collapsed": false
   },
   "outputs": [
    {
     "data": {
      "text/plain": [
       "[<matplotlib.lines.Line2D at 0x106e16e10>]"
      ]
     },
     "execution_count": 34,
     "metadata": {},
     "output_type": "execute_result"
    },
    {
     "data": {
      "image/png": "[encoded data removed]",
      "text/plain": [
       "<matplotlib.figure.Figure at 0x106c6db90>"
      ]
     },
     "metadata": {},
     "output_type": "display_data"
    }
   ],
   "source": [
    "plt.scatter(df2['x1'],df2['x2'],c=df2.t.map({1:'r',-1:'b'}),s=40)\n",
    "plt.plot([-6,6],[-6.7333333333333298,7.5523809523809522])"
   ]
  },
  {
   "cell_type": "code",
   "execution_count": 35,
   "metadata": {
    "collapsed": true
   },
   "outputs": [],
   "source": [
    "#2"
   ]
  },
  {
   "cell_type": "code",
   "execution_count": 97,
   "metadata": {
    "collapsed": true
   },
   "outputs": [],
   "source": [
    "class Perceptron:\n",
    "    \n",
    "    def __init__(self, w=[1,1,1]):\n",
    "        self.w = w\n",
    "    \n",
    "    def activate(self,x1,x2,bias):\n",
    "        if x1*self.w[0] + x2*self.w[1] + bias*self.w[2] > 0:\n",
    "            return 1\n",
    "        else:\n",
    "            return -1\n",
    "    \n",
    "    def train_perceptron(self,df,n=0.1):\n",
    "        self.w[0] = random.randint(-10,10)\n",
    "        self.w[1] = random.randint(-10,10)\n",
    "        self.w[2] = random.randint(-10,10)\n",
    "        while df.apply(lambda x: self.activate(x['x1'],x['x2'],x['bias'])!=x['t'],axis=1).sum() != 0:\n",
    "            for i in range(df.shape[0]):\n",
    "                xw = df.loc[i]['x1']*self.w[0] + df.loc[i]['x2']*self.w[1] + df.loc[i]['bias']*self.w[2]\n",
    "                error = df.loc[i][2] - math.copysign(1,xw-0.0000000001)\n",
    "                self.w[0] = self.w[0] + n*error*df.loc[i]['x1']\n",
    "                self.w[1] = self.w[1] + n*error*df.loc[i]['x2']\n",
    "                self.w[2] = self.w[2] + n*error*df.loc[i]['bias']\n",
    "#            print self.w\n",
    "\n",
    "    def batch_mode(self,df,n=0.1):\n",
    "        self.w[0] = random.randint(-10,10)\n",
    "        self.w[1] = random.randint(-10,10)\n",
    "        self.w[2] = random.randint(-10,10)\n",
    "        while df.apply(lambda x: self.activate(x['x1'],x['x2'],x['bias'])!=x['t'],axis=1).sum() != 0:\n",
    "            X = np.matrix(df[['x1','x2','bias']])\n",
    "            Xw = X*np.matrix(self.w).T\n",
    "            delta = 0.1*X.T*(np.matrix(df['t']).T - Xw)\n",
    "            self.w[0] += np.array(delta)[0][0]\n",
    "            self.w[1] += np.array(delta)[1][0]\n",
    "            self.w[2] += np.array(delta)[2][0]\n",
    "            print self.w"
   ]
  },
  {
   "cell_type": "code",
   "execution_count": 98,
   "metadata": {
    "collapsed": false
   },
   "outputs": [
    {
     "name": "stdout",
     "output_type": "stream",
     "text": [
      "[-3.3500000000000014, -1.1500000000000001, -2.2000000000000002]\n",
      "[2.455000000000001, 1.0500000000000005, 1.4850000000000012]\n",
      "[-1.9998750000000021, 0.086374999999999758, -1.3562500000000006]\n",
      "[1.3020437500000011, 1.0271687500000004, 0.70882500000000137]\n",
      "[-1.1543331250000017, 0.3982899999999997, -0.87619562500000026]\n",
      "[0.69717092187500063, 0.89296739062500019, 0.26790853125000114]\n",
      "[-0.66406414921875134, 0.53337484140624969, -0.62286903437500007]\n",
      "[0.37322561210937555, 0.8063196626562501, 0.0066073685156260442]\n",
      "[-0.38003723007617285, 0.60543231983398416, -0.49756347422265623]\n",
      "[0.2027303264631839, 0.75763492435107427, -0.15456866252929602]\n",
      "[-0.21227393831868235, 0.64605709644488263, -0.44297731476469704]\n",
      "[0.11693463031737195, 0.73126023794281669, -0.25919176811006911]\n",
      "[-0.10988700737884979, 0.66951177034524489, -0.42698589248448604]\n"
     ]
    }
   ],
   "source": [
    "p3 = Perceptron()\n",
    "p3.batch_mode(df=df,n=0.1)"
   ]
  },
  {
   "cell_type": "code",
   "execution_count": 143,
   "metadata": {
    "collapsed": true
   },
   "outputs": [],
   "source": [
    "df3 = pd.DataFrame(columns=['x1','x2','t','bias'])\n",
    "for i in range(40):\n",
    "    df3.loc[i] = [random.randint(-5,5),random.randint(-5,5),0,1]\n",
    "df3['t'] = [2*random.randint(0,2) - 1 for x in range(40)]"
   ]
  },
  {
   "cell_type": "code",
   "execution_count": 144,
   "metadata": {
    "collapsed": false
   },
   "outputs": [
    {
     "data": {
      "text/plain": [
       "<matplotlib.collections.PathCollection at 0x1086be290>"
      ]
     },
     "execution_count": 144,
     "metadata": {},
     "output_type": "execute_result"
    },
    {
     "data": {
      "image/png": "[encoded data removed]",
      "text/plain": [
       "<matplotlib.figure.Figure at 0x10830ad10>"
      ]
     },
     "metadata": {},
     "output_type": "display_data"
    }
   ],
   "source": [
    "plt.scatter(df3['x1'],df3['x2'],c=df3.t.map({1:'r',-1:'b'}),s=40)\n",
    "#plt.plot([-6,6],[-6.7333333333333298,7.5523809523809522])"
   ]
  },
  {
   "cell_type": "code",
   "execution_count": 145,
   "metadata": {
    "collapsed": false
   },
   "outputs": [
    {
     "name": "stdout",
     "output_type": "stream",
     "text": [
      "[185.40000000000003, -365.89999999999998, 10.699999999999998]\n",
      "[-8430.6200000000008, 14778.840000000002, -242.70999999999987]\n",
      "[375302.46200000012, -601146.54500000016, 6055.9540000000079]\n",
      "[-16450861.496800007, 24598831.26730001, -124775.94469999954]\n",
      "[713171338.85522032, -1011546828.1881205, 1018711.2597699942]\n",
      "[-30668763622.778736, 41763190247.432297, 95168714.095761374]\n",
      "[1310996129960.9907, -1729816087727.9016, -8503964890.0407133]\n",
      "[-55790090606307.133, 71833252029449.828, 504321734763.9173]\n",
      "[2366115583587876.0, -2989112746836469.0, -25982793598000.832]\n",
      "[-1.0008946680892938e+17, 1.2458496748104859e+17, 1247782047268902.2]\n",
      "[4.2254890013529907e+18, -5.1993298095058842e+18, -57502108085754872.0]\n",
      "[-1.7811499210209811e+20, 2.1720469213817016e+20, 2.5807103669939005e+18]\n",
      "[7.4991196516069472e+21, -9.0810741602826353e+21, -1.1376231233032408e+20]\n",
      "[-3.1544407921945133e+23, 3.799068316840655e+23, 4.9518231838045325e+21]\n",
      "[1.3259464658652589e+25, -1.5901211307756698e+25, -2.1357962602419765e+23]\n",
      "[-5.5704460564893817e+26, 6.6581010578565558e+26, 9.1501327096509903e+24]\n",
      "[2.3392013683475524e+28, -2.7886971811159054e+28, -3.9003881402833482e+26]\n",
      "[-9.8197449200307383e+29, 1.1683008080513456e+30, 1.6562927800235966e+28]\n",
      "[4.121163444367855e+31, -4.8953983452820212e+31, -7.0131019769306471e+29]\n",
      "[-1.7292247421068568e+33, 2.0515588047368491e+33, 2.9629325760099831e+31]\n",
      "[7.2546157634589445e+34, -8.5986210012391281e+34, -1.2496668495488591e+33]\n",
      "[-3.0431535817200821e+36, 3.6042246823616962e+36, 5.2637653477750786e+34]\n",
      "[1.2764140615542748e+38, -1.5108618605076585e+38, -2.2149183688496308e+36]\n",
      "[-5.3533633183242397e+39, 6.333750888621724e+39, 9.3127308118240966e+37]\n",
      "[2.245103892363238e+41, -2.6553110979804777e+41, -3.9131901628271729e+39]\n",
      "[-9.4151302639391618e+42, 1.1132278592305862e+43, 1.6435334135647267e+41]\n",
      "[3.9482145415827773e+44, -4.6672797123018029e+44, -6.9002621591590789e+42]\n",
      "[-1.6556291793775659e+46, 1.9568262486617497e+46, 2.8961939678620661e+44]\n",
      "[6.9425012881951597e+47, -8.2044122424031811e+47, -1.2153246569975627e+46]\n",
      "[-2.9111293577957924e+49, 3.4399170549930791e+49, 5.0989536194354929e+47]\n",
      "[1.2206784903923528e+51, -1.4422900136841054e+51, -2.1389991986046767e+49]\n",
      "[-5.1184279390639431e+52, 6.0472851290942981e+52, 8.9720981181869591e+50]\n",
      "[2.1461911134978575e+54, -2.5355420224346255e+54, -3.7630621394461257e+52]\n",
      "[-8.9990664129049817e+55, 1.0631220956585479e+56, 1.5781949984764605e+54]\n",
      "[3.7733265103825272e+57, -4.4575580818688405e+57, -6.6184761032732718e+55]\n",
      "[-1.5821572665632922e+59, 1.8690119360228994e+59, 2.7754808301004604e+57]\n",
      "[6.6339716690724516e+60, -7.8366071195679383e+60, -1.1638716783655383e+59]\n",
      "[-2.7816120496499312e+62, 3.2858278335714854e+62, 4.8804688033497441e+60]\n",
      "[1.1663226573778454e+64, -1.377723619482019e+64, -2.0464910156958431e+62]\n",
      "[-4.8903534265125364e+65, 5.7767004640421157e+65, 8.581274407469056e+63]\n",
      "[2.0505071959700995e+67, -2.422132747230846e+67, -3.5982288150698281e+65]\n",
      "[-8.5976937460538055e+68, 1.0155850639795893e+69, 1.5087660121194889e+67]\n",
      "[3.6049757712228865e+70, -4.2582865304653507e+70, -6.3263320686882272e+68]\n",
      "[-1.5115499355483757e+72, 1.7854743756892684e+72, 2.6526485641481546e+70]\n",
      "[6.3378574721340722e+73, -7.4863907612280071e+73, -1.1122581737036034e+72]\n",
      "[-2.6574328392420707e+75, 3.139001063368332e+75, 4.6636941065425114e+73]\n",
      "[1.1142483948435341e+77, -1.3161655296557123e+77, -1.9554800308721562e+75]\n",
      "[-4.6719872756733005e+78, 5.5186089828490406e+78, 8.1992822518604246e+76]\n",
      "[1.9589403809361214e+80, -2.3139223588141769e+80, -3.4379345442922411e+78]\n",
      "[-8.2137358886701578e+81, 9.7021498733031975e+81, 1.4415139062389731e+80]\n",
      "[3.4439767328983634e+83, -4.06805864265373e+83, -6.0442114847528725e+81]\n",
      "[-1.4440414240614025e+85, 1.7057149401033921e+85, 2.5343123582934406e+83]\n",
      "[6.0547897883701031e+86, -7.1519705881172557e+86, -1.0626258503197713e+85]\n",
      "[-2.5387414195106925e+88, 2.9987827232824693e+88, 4.4555406828845917e+86]\n",
      "[1.06448084841261e+90, -1.2573734659035059e+90, -1.8681867832732168e+88]\n",
      "[-4.4633117699504594e+91, 5.2720994134108124e+91, 7.8332151652300669e+89]\n",
      "[1.8714429257219638e+93, -2.2105630031523168e+93, -3.284427821943601e+91]\n",
      "[-7.8468606872212308e+94, 9.2687722023033516e+94, 1.3771438748626552e+93]\n",
      "[3.2901469236591799e+96, -3.8863465467474055e+96, -5.7742934337132778e+94]\n",
      "[-1.3795410803759609e+98, 1.6295243060631533e+98, 2.4211312859335758e+96]\n",
      "[5.7843422242434674e+99, -6.8325082366021663e+99, -1.0151677079110208e+98]\n",
      "[-2.4253438507399371e+101, 2.8648341627077121e+101, 4.2565449306161165e+99]\n",
      "[1.016933739054237e+103, -1.2012096471676982e+103, -1.7847468662065343e+101]\n",
      "[-4.2639489053619355e+104, 5.0366078397193351e+104, 7.4833493028489572e+102]\n",
      "[1.7878510188105177e+106, -2.1118227483713461e+106, -3.1377287259615755e+104]\n",
      "[-7.4963638849805894e+107, 8.854759929286739e+107, 1.315633004480511e+106]\n",
      "[3.1431853551839709e+109, -3.712753523768437e+109, -5.5163792729186668e+107]\n",
      "[-1.317920836670275e+111, 1.5567377153242971e+111, 2.3129884811456568e+109]\n",
      "[5.5259716929379522e+112, -6.5273180691741831e+112, -9.6982375386742112e+110]\n",
      "[-2.3170104209270488e+114, 2.7368695948441429e+114, 4.0664193230486396e+112]\n",
      "[9.7151009549794693e+115, -1.1475548002061272e+116, -1.7050279427018971e+114]\n",
      "[-4.0734899448066956e+117, 4.8116359743520227e+117, 7.1490912249998315e+115]\n",
      "[1.7079925778054207e+119, -2.0174932606483881e+119, -2.997575808083108e+117]\n",
      "[-7.1615216545143309e+120, 8.4592414708454019e+120, 1.256867539289631e+119]\n",
      "[3.0027877791683516e+122, -3.5469147615267292e+122, -5.2699785041911824e+120]\n",
      "[-1.2590528773036518e+124, 1.4872024129627473e+124, 2.2096738527866568e+122]\n",
      "[5.2791414651608126e+125, -6.2357602763731565e+125, -9.2650444860169602e+123]\n",
      "[-2.2135158187793712e+127, 2.6146209748413619e+127, 3.8847836804690119e+125]\n",
      "[9.2811535964187739e+128, -1.096296608519778e+129, -1.6288690521287988e+127]\n",
      "[-3.8915381287703281e+130, 4.5967131200981631e+130, 6.8297609475075776e+128]\n",
      "[1.6317011511017232e+132, -1.9273772576802528e+132, -2.8636822900185659e+130]\n",
      "[-6.8416357704608228e+133, 8.0813898898699449e+133, 1.2007266897818354e+132]\n",
      "[2.8686613343658339e+135, -3.3884836138563312e+135, -5.0345828798004721e+133]\n",
      "[-1.2028143746846678e+137, 1.4207730796387555e+137, 2.110973711368285e+135]\n",
      "[5.0433364252037523e+138, -5.9572256321433764e+138, -8.8512000209978123e+136]\n",
      "[-2.1146440242737796e+140, 2.4978328869872906e+140, 3.711260892392922e+138]\n",
      "[8.8665894406591182e+141, -1.0473279873280742e+142, -1.5561118692318671e+140]\n",
      "[-3.7177135917914646e+143, 4.3913903078258057e+143, 6.5246939504648511e+141]\n",
      "[1.5588174509473067e+145, -1.8412864994633639e+145, -2.7357693226055702e+143]\n",
      "[-6.5360383078685243e+146, 7.7204159399788642e+146, 1.1470934641332728e+145]\n",
      "[2.7405259503454451e+148, -3.2371291650621733e+148, -4.8097016240415746e+146]\n",
      "[-1.1490878925002098e+150, 1.3573109678016155e+150, 2.0166822002527601e+148]\n",
      "[4.8180641548763943e+151, -5.6911323873076435e+151, -8.4558407456458095e+149]\n",
      "[-2.0201885645095414e+153, 2.3862614108521659e+153, 3.5454888581415348e+151]\n",
      "[8.4705427428512597e+154, -1.0005466633720562e+155, -1.4866045401167056e+153]\n",
      "[-3.5516533267671395e+156, 4.1952387153946856e+156, 6.233253430172012e+154]\n",
      "[1.4891892687949082e+158, -1.7590411845304688e+158, -2.6135698685056595e+156]\n",
      "[-6.2440910591651126e+159, 7.3755657276944696e+159, 1.0958558855377792e+158]\n",
      "[2.6181140283579343e+161, -3.0925353130993926e+161, -4.5948651931254371e+159]\n",
      "[-1.0977612274600059e+163, 1.2966835380314322e+163, 1.9266024320821383e+161]\n",
      "[4.6028541899293879e+164, -5.4369248127261428e+164, -8.0781410885419012e+162]\n",
      "[-1.9299521757353978e+166, 2.2796735326894541e+166, 3.387121409146051e+164]\n",
      "[8.0921863846441746e+167, -9.5585493540049862e+167, -1.4202019145889886e+166]\n",
      "[-3.3930105267430335e+169, 4.0078486872272558e+169, 5.9548307679554223e+167]\n",
      "[1.4226711901289913e+171, -1.6804695466661658e+171, -2.4968287333422895e+169]\n",
      "[-5.9651843083600727e+172, 7.0461190470399983e+172, 1.0469069511066572e+171]\n",
      "[2.5011699175180289e+174, -2.9544000796418975e+174, -4.389624925564255e+172]\n",
      "[-1.0487271864390294e+176, 1.2387641724922647e+176, 1.8405462841518609e+174]\n",
      "[4.3972570750716895e+177, -5.1940720067828686e+177, -7.7173122568504633e+175]\n",
      "[-1.8437464036688586e+179, 2.1778466483550729e+179, 3.2358278073486601e+177]\n",
      "[7.7307301870366883e+180, -9.1315946670698766e+180, -1.3567653154779123e+179]\n",
      "[-3.2414538737992602e+182, 3.8288288675716453e+182, 5.6888444963073961e+180]\n",
      "[1.3591242950875157e+184, -1.6054074925178676e+184, -2.3853021103919253e+182]\n",
      "[-5.6987355718007174e+185, 6.7313878634308239e+185, 1.0001444338182172e+184]\n",
      "[2.3894493855115214e+187, -2.8224349754889359e+187, -4.193552188377004e+185]\n",
      "[-1.001883364122688e+189, 1.1834319092115332e+189, 1.7583340327659295e+187]\n",
      "[4.2008434302570705e+190, -4.9620667824152392e+190, -7.3726006781359132e+188]\n",
      "[-1.7613912115395574e+192, 2.0805680970317437e+192, 3.0912920836630695e+190]\n",
      "[7.3854192654328907e+193, -8.7237108974968739e+193, -1.296162258571375e+192]\n",
      "[-3.0966668488456994e+195, 3.6578053816973796e+195, 5.4347391158004384e+193]\n",
      "[1.2984158689029894e+197, -1.5336982584112666e+197, -2.2787570816454161e+195]\n",
      "[-5.4441883835438244e+198, 6.4307148751643511e+198, 9.554706723736144e+196]\n",
      "[2.2827191091368235e+200, -2.6963643975509333e+200, -4.0062374928830797e+198]\n",
      "[-9.5713192933755528e+201, 1.1305711892870081e+202, 1.6797939814845507e+200]\n",
      "[4.0132030545967621e+203, -4.7404246073223729e+203, -7.0432864383210527e+201]\n",
      "[-1.6827146043045312e+205, 1.9876347169150101e+205, 2.9532123819371653e+203]\n",
      "[7.0555324538001949e+206, -8.3340461986956073e+206, -1.2382661771889976e+205]\n",
      "[-2.9583470708155027e+208, 3.4944210548805102e+208, 5.1919839390774656e+206]\n",
      "[1.2404191248087627e+210, -1.4651920828928698e+210, -2.1769711327198595e+208]\n",
      "[-5.2010111334475457e+211, 6.1434721404669266e+211, 9.127923676777885e+209]\n",
      "[2.1807561871005287e+213, -2.5759250531967888e+213, -3.8272896409510628e+211]\n",
      "[-9.1437942076176064e+214, 1.0800716155249899e+215, 1.6047621030177149e+213]\n",
      "[3.8339440697598285e+216, -4.5286825919684159e+216, -6.7286817797304123e+214]\n",
      "[-1.6075522694726503e+218, 1.8988524208951636e+218, 2.8213003290479744e+216]\n",
      "[6.7403807986394358e+219, -7.961786773782732e+219, -1.1829561580195758e+218]\n",
      "[-2.8262056651863133e+221, 3.3383346664349031e+221, 4.9600719830796714e+219]\n",
      "[1.1850129392605677e+223, -1.3997458939516627e+223, -2.0797316883255811e+221]\n",
      "[-4.9686959569603606e+224, 5.869059766038725e+224, 8.7202038804687321e+222]\n",
      "[2.0833476745088687e+226, -2.4608654103702664e+226, -3.6563349081902188e+224]\n",
      "[-8.7353655173876799e+227, 1.031827721877873e+228, 1.5330816967242491e+226]\n",
      "[3.662692101564582e+229, -4.3263985228492815e+229, -6.4281296649443104e+227]\n",
      "[-1.535747233949225e+231, 1.8140357912120409e+231, 2.6952804327145599e+229]\n",
      "[6.4393061201492032e+232, -7.6061551759940196e+232, -1.1301166886211086e+231]\n",
      "[-2.6999666606830365e+234, 3.189220237085067e+234, 4.7385189103073718e+232]\n",
      "[1.1320815989768469e+236, -1.3372230102186553e+236, -1.9868356683358899e+234]\n",
      "[-4.7467576744734833e+237, 5.6069046542004186e+237, 8.3306958306844957e+235]\n",
      "[1.9902901381434539e+239, -2.3509451722756283e+239, -3.4930162634694161e+237]\n",
      "[-8.3451802380674028e+240, 9.8573875318275083e+240, 1.4646030613578823e+239]\n",
      "[3.4990894981167374e+242, -4.1331499389487388e+242, -6.1410024046332618e+240]\n",
      "[-1.4671495362053738e+244, 1.73300769221811e+244, 2.5748895061538097e+242]\n",
      "[6.1516796376490687e+245, -7.2664086850210631e+245, -1.0796374161812315e+244]\n",
      "[-2.5793664129249905e+247, 3.0467663481729214e+247, 4.5268620173127649e+245]\n",
      "[1.0815145592770331e+249, -1.2774928555139547e+249, -1.8980890636666339e+247]\n",
      "[-4.5347327780460251e+250, 5.35645930600443e+250, 7.9585860576981632e+248]\n",
      "[1.9013892316004913e+252, -2.2459347755286178e+252, -3.336992623277241e+250]\n",
      "[-7.9724234855666579e+253, 9.4170845473881582e+253, 1.3991831824241658e+252]\n",
      "[3.3427945828700042e+255, -3.9485332494477361e+255, -5.8667003466611154e+253]\n",
      "[-1.4016159130902978e+257, 1.6555989004387203e+257, 2.4598761184280548e+255]\n",
      "[5.8769006564001207e+258, -6.94183775587371e+258, -1.0314129170507976e+257]\n",
      "[-2.4641530538167547e+260, 2.9106754912741249e+260, 4.3246592683661149e+258]\n",
      "[1.033206213214068e+262, -1.2204306861443735e+262, -1.813306531097463e+260]\n",
      "[-4.3321784633899567e+263, 5.1172006778084054e+263, 7.6030974272869668e+261]\n",
      "[1.8164592894072455e+265, -2.1456149107238278e+265, -3.187938139385125e+263]\n",
      "[-7.6163167744755771e+266, 8.9964487128381994e+266, 1.3366854335013867e+265]\n",
      "[3.1934809410502977e+268, -3.7721628908434525e+268, -5.6046506237395239e+266]\n",
      "[-1.339009500632765e+270, 1.5816477511566229e+270, 2.3500000693432597e+268]\n",
      "[5.6143953130815553e+271, -6.6317645370278374e+271, -9.8534247657146708e+269]\n",
      "[-2.3540859655332024e+273, 2.7806634468653509e+273, 4.1314883722847024e+271]\n",
      "[9.8705567101913292e+274, -1.1659173303819363e+275, -1.7323110061911227e+273]\n",
      "[-4.1386717050936403e+276, 4.8886290889224835e+276, 7.2634875177233195e+274]\n",
      "[1.735322939268203e+278, -2.0497760644170396e+278, -3.0455415183283633e+276]\n",
      "[-7.2761163922333911e+279, 8.594601549497163e+279, 1.2769792909025517e+278]\n",
      "[3.0508367379534202e+281, -3.6036705217175528e+281, -5.3543059570208078e+279]\n",
      "[-1.279199548206968e+283, 1.5109998007826017e+283, 2.2450318878018835e+281]\n",
      "[5.363615377303399e+284, -6.3355414547634609e+284, -9.4132987873776318e+282]\n",
      "[-2.2489352780001853e+286, 2.6564586907448184e+286, 3.9469459004969238e+284]\n",
      "[9.4296654939798741e+287, -1.1138389395791807e+288, -1.6549333335024531e+286]\n",
      "[-3.9538083731526305e+289, 4.670267178049073e+289, 6.9390470692611587e+287]\n",
      "[1.6578107316311565e+291, -1.9582180815659948e+291, -2.9095053712839123e+289]\n",
      "[-6.951111845918829e+292, 8.2107038179641222e+292, 1.2199400610826618e+291]\n",
      "[2.9145640676925756e+294, -3.4427042534720157e+294, -5.115143513131343e+292]\n",
      "[-1.2220611454658339e+296, 1.4435075043071179e+296, 2.1447523525630617e+294]\n",
      "[5.1240371066524508e+297, -6.0525498607366825e+297, -8.9928320525435604e+295]\n",
      "[-2.1484813888214131e+299, 2.5378018269664353e+299, 3.7706464445002695e+297]\n",
      "[9.0084677023887056e+300, -1.0640867504014719e+301, -1.5810119133050128e+299]\n",
      "[-3.7772023889626561e+302, 4.4616589063356348e+302, 6.6290985028792481e+300]\n",
      "[1.583760785799571e+304, -1.8707497475157509e+304, -2.7795455929874488e+302]\n",
      "[-6.6406243784181648e+305, 7.8439537654046186e+305, 1.1654486202219389e+304]\n",
      "[2.7843783310355525e+307, -3.2889279154259117e+307, -4.886663812257721e+305]\n",
      "[-inf, inf, nan]\n",
      "[nan, nan, nan]\n",
      "[nan, nan, nan]\n",
      "[nan, nan, nan]\n",
      "[nan, nan, nan]\n",
      "[nan, nan, nan]\n",
      "[nan, nan, nan]\n",
      "[nan, nan, nan]\n",
      "[nan, nan, nan]\n",
      "[nan, nan, nan]\n",
      "[nan, nan, nan]\n",
      "[nan, nan, nan]\n",
      "[nan, nan, nan]\n",
      "[nan, nan, nan]\n",
      "[nan, nan, nan]\n",
      "[nan, nan, nan]\n",
      "[nan, nan, nan]\n",
      "[nan, nan, nan]\n",
      "[nan, nan, nan]\n",
      "[nan, nan, nan]\n",
      "[nan, nan, nan]\n",
      "[nan, nan, nan]\n",
      "[nan, nan, nan]\n",
      "[nan, nan, nan]\n",
      "[nan, nan, nan]\n",
      "[nan, nan, nan]\n",
      "[nan, nan, nan]\n",
      "[nan, nan, nan]\n",
      "[nan, nan, nan]\n",
      "[nan, nan, nan]\n",
      "[nan, nan, nan]\n",
      "[nan, nan, nan]\n",
      "[nan, nan, nan]\n",
      "[nan, nan, nan]\n",
      "[nan, nan, nan]\n",
      "[nan, nan, nan]\n",
      "[nan, nan, nan]\n",
      "[nan, nan, nan]\n",
      "[nan, nan, nan]\n",
      "[nan, nan, nan]\n",
      "[nan, nan, nan]\n",
      "[nan, nan, nan]\n",
      "[nan, nan, nan]\n",
      "[nan, nan, nan]\n",
      "[nan, nan, nan]\n",
      "[nan, nan, nan]\n",
      "[nan, nan, nan]\n",
      "[nan, nan, nan]\n",
      "[nan, nan, nan]\n",
      "[nan, nan, nan]\n",
      "[nan, nan, nan]\n",
      "[nan, nan, nan]\n",
      "[nan, nan, nan]\n",
      "[nan, nan, nan]\n",
      "[nan, nan, nan]\n",
      "[nan, nan, nan]\n",
      "[nan, nan, nan]\n",
      "[nan, nan, nan]\n",
      "[nan, nan, nan]\n",
      "[nan, nan, nan]\n",
      "[nan, nan, nan]\n",
      "[nan, nan, nan]\n",
      "[nan, nan, nan]\n",
      "[nan, nan, nan]\n",
      "[nan, nan, nan]\n",
      "[nan, nan, nan]\n",
      "[nan, nan, nan]\n",
      "[nan, nan, nan]\n",
      "[nan, nan, nan]\n",
      "[nan, nan, nan]\n",
      "[nan, nan, nan]\n",
      "[nan, nan, nan]\n",
      "[nan, nan, nan]\n",
      "[nan, nan, nan]\n",
      "[nan, nan, nan]\n",
      "[nan, nan, nan]\n",
      "[nan, nan, nan]\n",
      "[nan, nan, nan]\n",
      "[nan, nan, nan]\n",
      "[nan, nan, nan]\n",
      "[nan, nan, nan]\n",
      "[nan, nan, nan]\n",
      "[nan, nan, nan]\n",
      "[nan, nan, nan]\n",
      "[nan, nan, nan]\n",
      "[nan, nan, nan]\n",
      "[nan, nan, nan]\n",
      "[nan, nan, nan]\n",
      "[nan, nan, nan]\n",
      "[nan, nan, nan]\n",
      "[nan, nan, nan]\n",
      "[nan, nan, nan]\n",
      "[nan, nan, nan]\n",
      "[nan, nan, nan]\n",
      "[nan, nan, nan]\n",
      "[nan, nan, nan]\n",
      "[nan, nan, nan]\n",
      "[nan, nan, nan]\n",
      "[nan, nan, nan]\n",
      "[nan, nan, nan]\n",
      "[nan, nan, nan]\n",
      "[nan, nan, nan]\n",
      "[nan, nan, nan]\n",
      "[nan, nan, nan]\n",
      "[nan, nan, nan]\n",
      "[nan, nan, nan]\n",
      "[nan, nan, nan]\n",
      "[nan, nan, nan]\n",
      "[nan, nan, nan]\n",
      "[nan, nan, nan]\n",
      "[nan, nan, nan]\n",
      "[nan, nan, nan]\n",
      "[nan, nan, nan]\n",
      "[nan, nan, nan]\n",
      "[nan, nan, nan]\n",
      "[nan, nan, nan]\n",
      "[nan, nan, nan]\n",
      "[nan, nan, nan]\n",
      "[nan, nan, nan]\n",
      "[nan, nan, nan]\n",
      "[nan, nan, nan]\n",
      "[nan, nan, nan]\n",
      "[nan, nan, nan]\n",
      "[nan, nan, nan]\n",
      "[nan, nan, nan]\n",
      "[nan, nan, nan]\n",
      "[nan, nan, nan]\n",
      "[nan, nan, nan]\n",
      "[nan, nan, nan]\n",
      "[nan, nan, nan]\n",
      "[nan, nan, nan]\n",
      "[nan, nan, nan]\n",
      "[nan, nan, nan]\n",
      "[nan, nan, nan]\n",
      "[nan, nan, nan]\n",
      "[nan, nan, nan]\n",
      "[nan, nan, nan]\n",
      "[nan, nan, nan]\n",
      "[nan, nan, nan]\n",
      "[nan, nan, nan]\n",
      "[nan, nan, nan]\n",
      "[nan, nan, nan]\n",
      "[nan, nan, nan]\n",
      "[nan, nan, nan]\n",
      "[nan, nan, nan]\n",
      "[nan, nan, nan]\n",
      "[nan, nan, nan]\n",
      "[nan, nan, nan]\n",
      "[nan, nan, nan]\n",
      "[nan, nan, nan]\n",
      "[nan, nan, nan]\n",
      "[nan, nan, nan]\n",
      "[nan, nan, nan]\n",
      "[nan, nan, nan]\n",
      "[nan, nan, nan]\n",
      "[nan, nan, nan]\n",
      "[nan, nan, nan]\n",
      "[nan, nan, nan]\n",
      "[nan, nan, nan]\n",
      "[nan, nan, nan]\n",
      "[nan, nan, nan]\n",
      "[nan, nan, nan]\n",
      "[nan, nan, nan]\n",
      "[nan, nan, nan]\n",
      "[nan, nan, nan]\n",
      "[nan, nan, nan]\n",
      "[nan, nan, nan]\n",
      "[nan, nan, nan]\n",
      "[nan, nan, nan]\n",
      "[nan, nan, nan]\n",
      "[nan, nan, nan]\n",
      "[nan, nan, nan]\n",
      "[nan, nan, nan]\n",
      "[nan, nan, nan]\n",
      "[nan, nan, nan]\n",
      "[nan, nan, nan]\n",
      "[nan, nan, nan]\n",
      "[nan, nan, nan]\n",
      "[nan, nan, nan]\n",
      "[nan, nan, nan]\n",
      "[nan, nan, nan]\n",
      "[nan, nan, nan]\n",
      "[nan, nan, nan]\n",
      "[nan, nan, nan]\n",
      "[nan, nan, nan]\n",
      "[nan, nan, nan]\n",
      "[nan, nan, nan]\n",
      "[nan, nan, nan]\n",
      "[nan, nan, nan]\n",
      "[nan, nan, nan]\n",
      "[nan, nan, nan]\n",
      "[nan, nan, nan]\n",
      "[nan, nan, nan]\n",
      "[nan, nan, nan]\n",
      "[nan, nan, nan]\n",
      "[nan, nan, nan]\n",
      "[nan, nan, nan]\n",
      "[nan, nan, nan]\n",
      "[nan, nan, nan]\n",
      "[nan, nan, nan]\n",
      "[nan, nan, nan]\n",
      "[nan, nan, nan]\n",
      "[nan, nan, nan]\n",
      "[nan, nan, nan]\n",
      "[nan, nan, nan]\n",
      "[nan, nan, nan]\n",
      "[nan, nan, nan]\n",
      "[nan, nan, nan]\n",
      "[nan, nan, nan]\n",
      "[nan, nan, nan]\n",
      "[nan, nan, nan]\n",
      "[nan, nan, nan]\n",
      "[nan, nan, nan]\n",
      "[nan, nan, nan]\n",
      "[nan, nan, nan]\n",
      "[nan, nan, nan]\n",
      "[nan, nan, nan]\n",
      "[nan, nan, nan]\n",
      "[nan, nan, nan]\n",
      "[nan, nan, nan]\n",
      "[nan, nan, nan]\n",
      "[nan, nan, nan]\n",
      "[nan, nan, nan]\n",
      "[nan, nan, nan]\n",
      "[nan, nan, nan]\n",
      "[nan, nan, nan]\n",
      "[nan, nan, nan]\n",
      "[nan, nan, nan]\n",
      "[nan, nan, nan]\n",
      "[nan, nan, nan]\n",
      "[nan, nan, nan]\n",
      "[nan, nan, nan]\n",
      "[nan, nan, nan]\n",
      "[nan, nan, nan]\n",
      "[nan, nan, nan]\n",
      "[nan, nan, nan]\n",
      "[nan, nan, nan]\n",
      "[nan, nan, nan]\n",
      "[nan, nan, nan]\n",
      "[nan, nan, nan]\n",
      "[nan, nan, nan]\n",
      "[nan, nan, nan]\n",
      "[nan, nan, nan]\n",
      "[nan, nan, nan]\n",
      "[nan, nan, nan]\n",
      "[nan, nan, nan]\n",
      "[nan, nan, nan]\n",
      "[nan, nan, nan]\n",
      "[nan, nan, nan]\n",
      "[nan, nan, nan]\n",
      "[nan, nan, nan]\n",
      "[nan, nan, nan]\n",
      "[nan, nan, nan]\n",
      "[nan, nan, nan]\n",
      "[nan, nan, nan]\n",
      "[nan, nan, nan]\n",
      "[nan, nan, nan]\n",
      "[nan, nan, nan]\n",
      "[nan, nan, nan]\n",
      "[nan, nan, nan]\n",
      "[nan, nan, nan]\n",
      "[nan, nan, nan]\n",
      "[nan, nan, nan]\n",
      "[nan, nan, nan]\n",
      "[nan, nan, nan]\n",
      "[nan, nan, nan]\n",
      "[nan, nan, nan]\n",
      "[nan, nan, nan]\n",
      "[nan, nan, nan]\n",
      "[nan, nan, nan]\n",
      "[nan, nan, nan]\n",
      "[nan, nan, nan]\n",
      "[nan, nan, nan]\n",
      "[nan, nan, nan]\n",
      "[nan, nan, nan]\n",
      "[nan, nan, nan]\n",
      "[nan, nan, nan]\n",
      "[nan, nan, nan]\n",
      "[nan, nan, nan]\n",
      "[nan, nan, nan]\n",
      "[nan, nan, nan]\n",
      "[nan, nan, nan]\n",
      "[nan, nan, nan]\n",
      "[nan, nan, nan]\n",
      "[nan, nan, nan]\n",
      "[nan, nan, nan]\n",
      "[nan, nan, nan]\n",
      "[nan, nan, nan]\n",
      "[nan, nan, nan]\n",
      "[nan, nan, nan]\n",
      "[nan, nan, nan]\n",
      "[nan, nan, nan]\n",
      "[nan, nan, nan]\n",
      "[nan, nan, nan]\n",
      "[nan, nan, nan]\n",
      "[nan, nan, nan]\n",
      "[nan, nan, nan]\n",
      "[nan, nan, nan]\n",
      "[nan, nan, nan]\n",
      "[nan, nan, nan]\n",
      "[nan, nan, nan]\n",
      "[nan, nan, nan]\n",
      "[nan, nan, nan]\n",
      "[nan, nan, nan]\n",
      "[nan, nan, nan]\n",
      "[nan, nan, nan]\n",
      "[nan, nan, nan]\n",
      "[nan, nan, nan]\n",
      "[nan, nan, nan]\n",
      "[nan, nan, nan]\n",
      "[nan, nan, nan]\n",
      "[nan, nan, nan]\n",
      "[nan, nan, nan]\n",
      "[nan, nan, nan]\n",
      "[nan, nan, nan]\n",
      "[nan, nan, nan]\n",
      "[nan, nan, nan]\n",
      "[nan, nan, nan]\n",
      "[nan, nan, nan]\n",
      "[nan, nan, nan]\n",
      "[nan, nan, nan]\n",
      "[nan, nan, nan]\n",
      "[nan, nan, nan]\n",
      "[nan, nan, nan]\n",
      "[nan, nan, nan]\n",
      "[nan, nan, nan]\n",
      "[nan, nan, nan]\n",
      "[nan, nan, nan]\n",
      "[nan, nan, nan]\n",
      "[nan, nan, nan]\n",
      "[nan, nan, nan]\n",
      "[nan, nan, nan]\n",
      "[nan, nan, nan]\n",
      "[nan, nan, nan]\n",
      "[nan, nan, nan]\n",
      "[nan, nan, nan]\n",
      "[nan, nan, nan]\n",
      "[nan, nan, nan]\n",
      "[nan, nan, nan]\n",
      "[nan, nan, nan]\n",
      "[nan, nan, nan]\n",
      "[nan, nan, nan]\n",
      "[nan, nan, nan]\n",
      "[nan, nan, nan]\n",
      "[nan, nan, nan]\n",
      "[nan, nan, nan]\n",
      "[nan, nan, nan]\n",
      "[nan, nan, nan]\n",
      "[nan, nan, nan]\n",
      "[nan, nan, nan]\n",
      "[nan, nan, nan]\n",
      "[nan, nan, nan]\n",
      "[nan, nan, nan]\n",
      "[nan, nan, nan]\n",
      "[nan, nan, nan]\n",
      "[nan, nan, nan]\n",
      "[nan, nan, nan]\n",
      "[nan, nan, nan]\n",
      "[nan, nan, nan]\n",
      "[nan, nan, nan]\n",
      "[nan, nan, nan]\n",
      "[nan, nan, nan]\n",
      "[nan, nan, nan]\n",
      "[nan, nan, nan]\n",
      "[nan, nan, nan]\n",
      "[nan, nan, nan]\n",
      "[nan, nan, nan]\n",
      "[nan, nan, nan]\n",
      "[nan, nan, nan]\n",
      "[nan, nan, nan]\n",
      "[nan, nan, nan]\n",
      "[nan, nan, nan]\n",
      "[nan, nan, nan]\n",
      "[nan, nan, nan]\n",
      "[nan, nan, nan]\n",
      "[nan, nan, nan]\n",
      "[nan, nan, nan]\n",
      "[nan, nan, nan]\n",
      "[nan, nan, nan]\n",
      "[nan, nan, nan]\n",
      "[nan, nan, nan]\n",
      "[nan, nan, nan]\n",
      "[nan, nan, nan]\n",
      "[nan, nan, nan]\n",
      "[nan, nan, nan]\n",
      "[nan, nan, nan]\n",
      "[nan, nan, nan]\n",
      "[nan, nan, nan]\n",
      "[nan, nan, nan]\n",
      "[nan, nan, nan]\n",
      "[nan, nan, nan]\n",
      "[nan, nan, nan]\n",
      "[nan, nan, nan]\n",
      "[nan, nan, nan]\n",
      "[nan, nan, nan]\n",
      "[nan, nan, nan]\n",
      "[nan, nan, nan]\n",
      "[nan, nan, nan]\n",
      "[nan, nan, nan]\n",
      "[nan, nan, nan]\n",
      "[nan, nan, nan]\n",
      "[nan, nan, nan]\n",
      "[nan, nan, nan]\n",
      "[nan, nan, nan]\n",
      "[nan, nan, nan]\n",
      "[nan, nan, nan]\n",
      "[nan, nan, nan]\n",
      "[nan, nan, nan]\n",
      "[nan, nan, nan]\n",
      "[nan, nan, nan]\n",
      "[nan, nan, nan]\n",
      "[nan, nan, nan]\n",
      "[nan, nan, nan]\n",
      "[nan, nan, nan]\n",
      "[nan, nan, nan]\n",
      "[nan, nan, nan]\n",
      "[nan, nan, nan]\n",
      "[nan, nan, nan]\n",
      "[nan, nan, nan]\n",
      "[nan, nan, nan]\n",
      "[nan, nan, nan]\n",
      "[nan, nan, nan]\n",
      "[nan, nan, nan]\n",
      "[nan, nan, nan]\n",
      "[nan, nan, nan]\n",
      "[nan, nan, nan]\n",
      "[nan, nan, nan]\n",
      "[nan, nan, nan]\n",
      "[nan, nan, nan]\n",
      "[nan, nan, nan]\n",
      "[nan, nan, nan]\n",
      "[nan, nan, nan]\n",
      "[nan, nan, nan]\n",
      "[nan, nan, nan]\n",
      "[nan, nan, nan]\n",
      "[nan, nan, nan]\n",
      "[nan, nan, nan]\n",
      "[nan, nan, nan]\n",
      "[nan, nan, nan]\n",
      "[nan, nan, nan]\n",
      "[nan, nan, nan]\n",
      "[nan, nan, nan]\n",
      "[nan, nan, nan]\n",
      "[nan, nan, nan]\n",
      "[nan, nan, nan]\n",
      "[nan, nan, nan]\n",
      "[nan, nan, nan]\n",
      "[nan, nan, nan]\n",
      "[nan, nan, nan]\n",
      "[nan, nan, nan]\n",
      "[nan, nan, nan]\n",
      "[nan, nan, nan]\n",
      "[nan, nan, nan]\n",
      "[nan, nan, nan]\n",
      "[nan, nan, nan]\n",
      "[nan, nan, nan]\n",
      "[nan, nan, nan]\n",
      "[nan, nan, nan]\n",
      "[nan, nan, nan]\n",
      "[nan, nan, nan]\n",
      "[nan, nan, nan]\n",
      "[nan, nan, nan]\n",
      "[nan, nan, nan]\n",
      "[nan, nan, nan]\n",
      "[nan, nan, nan]\n",
      "[nan, nan, nan]\n",
      "[nan, nan, nan]\n",
      "[nan, nan, nan]\n",
      "[nan, nan, nan]\n",
      "[nan, nan, nan]\n",
      "[nan, nan, nan]\n",
      "[nan, nan, nan]\n",
      "[nan, nan, nan]\n",
      "[nan, nan, nan]\n",
      "[nan, nan, nan]\n",
      "[nan, nan, nan]\n",
      "[nan, nan, nan]\n",
      "[nan, nan, nan]\n",
      "[nan, nan, nan]\n",
      "[nan, nan, nan]\n",
      "[nan, nan, nan]\n",
      "[nan, nan, nan]\n",
      "[nan, nan, nan]\n",
      "[nan, nan, nan]\n",
      "[nan, nan, nan]\n",
      "[nan, nan, nan]\n",
      "[nan, nan, nan]\n",
      "[nan, nan, nan]\n",
      "[nan, nan, nan]\n",
      "[nan, nan, nan]\n",
      "[nan, nan, nan]\n",
      "[nan, nan, nan]\n",
      "[nan, nan, nan]\n",
      "[nan, nan, nan]\n",
      "[nan, nan, nan]\n",
      "[nan, nan, nan]\n",
      "[nan, nan, nan]\n",
      "[nan, nan, nan]\n",
      "[nan, nan, nan]\n",
      "[nan, nan, nan]\n",
      "[nan, nan, nan]\n",
      "[nan, nan, nan]\n",
      "[nan, nan, nan]\n",
      "[nan, nan, nan]\n",
      "[nan, nan, nan]\n",
      "[nan, nan, nan]\n",
      "[nan, nan, nan]\n",
      "[nan, nan, nan]\n",
      "[nan, nan, nan]\n",
      "[nan, nan, nan]\n",
      "[nan, nan, nan]\n",
      "[nan, nan, nan]\n",
      "[nan, nan, nan]\n",
      "[nan, nan, nan]\n",
      "[nan, nan, nan]\n",
      "[nan, nan, nan]\n",
      "[nan, nan, nan]\n",
      "[nan, nan, nan]\n",
      "[nan, nan, nan]\n",
      "[nan, nan, nan]\n",
      "[nan, nan, nan]\n",
      "[nan, nan, nan]\n",
      "[nan, nan, nan]\n",
      "[nan, nan, nan]\n",
      "[nan, nan, nan]\n",
      "[nan, nan, nan]\n",
      "[nan, nan, nan]\n",
      "[nan, nan, nan]\n",
      "[nan, nan, nan]\n",
      "[nan, nan, nan]\n",
      "[nan, nan, nan]\n",
      "[nan, nan, nan]\n",
      "[nan, nan, nan]\n",
      "[nan, nan, nan]\n",
      "[nan, nan, nan]\n",
      "[nan, nan, nan]\n",
      "[nan, nan, nan]\n",
      "[nan, nan, nan]\n",
      "[nan, nan, nan]\n",
      "[nan, nan, nan]\n",
      "[nan, nan, nan]\n",
      "[nan, nan, nan]\n",
      "[nan, nan, nan]\n",
      "[nan, nan, nan]\n",
      "[nan, nan, nan]\n",
      "[nan, nan, nan]\n",
      "[nan, nan, nan]\n",
      "[nan, nan, nan]\n"
     ]
    },
    {
     "ename": "KeyboardInterrupt",
     "evalue": "",
     "output_type": "error",
     "traceback": [
      "\u001b[0;31m---------------------------------------------------------------------------\u001b[0m",
      "\u001b[0;31mKeyboardInterrupt\u001b[0m                         Traceback (most recent call last)",
      "\u001b[0;32m<ipython-input-145-b0e2ec7a9807>\u001b[0m in \u001b[0;36m<module>\u001b[0;34m()\u001b[0m\n\u001b[1;32m      1\u001b[0m \u001b[0mp4\u001b[0m \u001b[0;34m=\u001b[0m \u001b[0mPerceptron\u001b[0m\u001b[0;34m(\u001b[0m\u001b[0;34m)\u001b[0m\u001b[0;34m\u001b[0m\u001b[0m\n\u001b[0;32m----> 2\u001b[0;31m \u001b[0mp4\u001b[0m\u001b[0;34m.\u001b[0m\u001b[0mbatch_mode\u001b[0m\u001b[0;34m(\u001b[0m\u001b[0mdf\u001b[0m\u001b[0;34m=\u001b[0m\u001b[0mdf3\u001b[0m\u001b[0;34m,\u001b[0m\u001b[0mn\u001b[0m\u001b[0;34m=\u001b[0m\u001b[0;36m0.1\u001b[0m\u001b[0;34m)\u001b[0m\u001b[0;34m\u001b[0m\u001b[0m\n\u001b[0m",
      "\u001b[0;32m<ipython-input-97-8606746149f7>\u001b[0m in \u001b[0;36mbatch_mode\u001b[0;34m(self, df, n)\u001b[0m\n\u001b[1;32m     27\u001b[0m         \u001b[0mself\u001b[0m\u001b[0;34m.\u001b[0m\u001b[0mw\u001b[0m\u001b[0;34m[\u001b[0m\u001b[0;36m1\u001b[0m\u001b[0;34m]\u001b[0m \u001b[0;34m=\u001b[0m \u001b[0mrandom\u001b[0m\u001b[0;34m.\u001b[0m\u001b[0mrandint\u001b[0m\u001b[0;34m(\u001b[0m\u001b[0;34m-\u001b[0m\u001b[0;36m10\u001b[0m\u001b[0;34m,\u001b[0m\u001b[0;36m10\u001b[0m\u001b[0;34m)\u001b[0m\u001b[0;34m\u001b[0m\u001b[0m\n\u001b[1;32m     28\u001b[0m         \u001b[0mself\u001b[0m\u001b[0;34m.\u001b[0m\u001b[0mw\u001b[0m\u001b[0;34m[\u001b[0m\u001b[0;36m2\u001b[0m\u001b[0;34m]\u001b[0m \u001b[0;34m=\u001b[0m \u001b[0mrandom\u001b[0m\u001b[0;34m.\u001b[0m\u001b[0mrandint\u001b[0m\u001b[0;34m(\u001b[0m\u001b[0;34m-\u001b[0m\u001b[0;36m10\u001b[0m\u001b[0;34m,\u001b[0m\u001b[0;36m10\u001b[0m\u001b[0;34m)\u001b[0m\u001b[0;34m\u001b[0m\u001b[0m\n\u001b[0;32m---> 29\u001b[0;31m         \u001b[0;32mwhile\u001b[0m \u001b[0mdf\u001b[0m\u001b[0;34m.\u001b[0m\u001b[0mapply\u001b[0m\u001b[0;34m(\u001b[0m\u001b[0;32mlambda\u001b[0m \u001b[0mx\u001b[0m\u001b[0;34m:\u001b[0m \u001b[0mself\u001b[0m\u001b[0;34m.\u001b[0m\u001b[0mactivate\u001b[0m\u001b[0;34m(\u001b[0m\u001b[0mx\u001b[0m\u001b[0;34m[\u001b[0m\u001b[0;34m'x1'\u001b[0m\u001b[0;34m]\u001b[0m\u001b[0;34m,\u001b[0m\u001b[0mx\u001b[0m\u001b[0;34m[\u001b[0m\u001b[0;34m'x2'\u001b[0m\u001b[0;34m]\u001b[0m\u001b[0;34m,\u001b[0m\u001b[0mx\u001b[0m\u001b[0;34m[\u001b[0m\u001b[0;34m'bias'\u001b[0m\u001b[0;34m]\u001b[0m\u001b[0;34m)\u001b[0m\u001b[0;34m!=\u001b[0m\u001b[0mx\u001b[0m\u001b[0;34m[\u001b[0m\u001b[0;34m't'\u001b[0m\u001b[0;34m]\u001b[0m\u001b[0;34m,\u001b[0m\u001b[0maxis\u001b[0m\u001b[0;34m=\u001b[0m\u001b[0;36m1\u001b[0m\u001b[0;34m)\u001b[0m\u001b[0;34m.\u001b[0m\u001b[0msum\u001b[0m\u001b[0;34m(\u001b[0m\u001b[0;34m)\u001b[0m \u001b[0;34m!=\u001b[0m \u001b[0;36m0\u001b[0m\u001b[0;34m:\u001b[0m\u001b[0;34m\u001b[0m\u001b[0m\n\u001b[0m\u001b[1;32m     30\u001b[0m             \u001b[0mX\u001b[0m \u001b[0;34m=\u001b[0m \u001b[0mnp\u001b[0m\u001b[0;34m.\u001b[0m\u001b[0mmatrix\u001b[0m\u001b[0;34m(\u001b[0m\u001b[0mdf\u001b[0m\u001b[0;34m[\u001b[0m\u001b[0;34m[\u001b[0m\u001b[0;34m'x1'\u001b[0m\u001b[0;34m,\u001b[0m\u001b[0;34m'x2'\u001b[0m\u001b[0;34m,\u001b[0m\u001b[0;34m'bias'\u001b[0m\u001b[0;34m]\u001b[0m\u001b[0;34m]\u001b[0m\u001b[0;34m)\u001b[0m\u001b[0;34m\u001b[0m\u001b[0m\n\u001b[1;32m     31\u001b[0m             \u001b[0mXw\u001b[0m \u001b[0;34m=\u001b[0m \u001b[0mX\u001b[0m\u001b[0;34m*\u001b[0m\u001b[0mnp\u001b[0m\u001b[0;34m.\u001b[0m\u001b[0mmatrix\u001b[0m\u001b[0;34m(\u001b[0m\u001b[0mself\u001b[0m\u001b[0;34m.\u001b[0m\u001b[0mw\u001b[0m\u001b[0;34m)\u001b[0m\u001b[0;34m.\u001b[0m\u001b[0mT\u001b[0m\u001b[0;34m\u001b[0m\u001b[0m\n",
      "\u001b[0;32m/Users/michaelevans/anaconda/lib/python2.7/site-packages/pandas/core/frame.pyc\u001b[0m in \u001b[0;36mapply\u001b[0;34m(self, func, axis, broadcast, raw, reduce, args, **kwds)\u001b[0m\n\u001b[1;32m   3912\u001b[0m                     \u001b[0;32mif\u001b[0m \u001b[0mreduce\u001b[0m \u001b[0;32mis\u001b[0m \u001b[0mNone\u001b[0m\u001b[0;34m:\u001b[0m\u001b[0;34m\u001b[0m\u001b[0m\n\u001b[1;32m   3913\u001b[0m                         \u001b[0mreduce\u001b[0m \u001b[0;34m=\u001b[0m \u001b[0mTrue\u001b[0m\u001b[0;34m\u001b[0m\u001b[0m\n\u001b[0;32m-> 3914\u001b[0;31m                     \u001b[0;32mreturn\u001b[0m \u001b[0mself\u001b[0m\u001b[0;34m.\u001b[0m\u001b[0m_apply_standard\u001b[0m\u001b[0;34m(\u001b[0m\u001b[0mf\u001b[0m\u001b[0;34m,\u001b[0m \u001b[0maxis\u001b[0m\u001b[0;34m,\u001b[0m \u001b[0mreduce\u001b[0m\u001b[0;34m=\u001b[0m\u001b[0mreduce\u001b[0m\u001b[0;34m)\u001b[0m\u001b[0;34m\u001b[0m\u001b[0m\n\u001b[0m\u001b[1;32m   3915\u001b[0m             \u001b[0;32melse\u001b[0m\u001b[0;34m:\u001b[0m\u001b[0;34m\u001b[0m\u001b[0m\n\u001b[1;32m   3916\u001b[0m                 \u001b[0;32mreturn\u001b[0m \u001b[0mself\u001b[0m\u001b[0;34m.\u001b[0m\u001b[0m_apply_broadcast\u001b[0m\u001b[0;34m(\u001b[0m\u001b[0mf\u001b[0m\u001b[0;34m,\u001b[0m \u001b[0maxis\u001b[0m\u001b[0;34m)\u001b[0m\u001b[0;34m\u001b[0m\u001b[0m\n",
      "\u001b[0;32m/Users/michaelevans/anaconda/lib/python2.7/site-packages/pandas/core/frame.pyc\u001b[0m in \u001b[0;36m_apply_standard\u001b[0;34m(self, func, axis, ignore_failures, reduce)\u001b[0m\n\u001b[1;32m   3966\u001b[0m                 \u001b[0mlabels\u001b[0m \u001b[0;34m=\u001b[0m \u001b[0mself\u001b[0m\u001b[0;34m.\u001b[0m\u001b[0m_get_agg_axis\u001b[0m\u001b[0;34m(\u001b[0m\u001b[0maxis\u001b[0m\u001b[0;34m)\u001b[0m\u001b[0;34m\u001b[0m\u001b[0m\n\u001b[1;32m   3967\u001b[0m                 result = lib.reduce(values, func, axis=axis, dummy=dummy,\n\u001b[0;32m-> 3968\u001b[0;31m                                     labels=labels)\n\u001b[0m\u001b[1;32m   3969\u001b[0m                 \u001b[0;32mreturn\u001b[0m \u001b[0mSeries\u001b[0m\u001b[0;34m(\u001b[0m\u001b[0mresult\u001b[0m\u001b[0;34m,\u001b[0m \u001b[0mindex\u001b[0m\u001b[0;34m=\u001b[0m\u001b[0mlabels\u001b[0m\u001b[0;34m)\u001b[0m\u001b[0;34m\u001b[0m\u001b[0m\n\u001b[1;32m   3970\u001b[0m             \u001b[0;32mexcept\u001b[0m \u001b[0mException\u001b[0m\u001b[0;34m:\u001b[0m\u001b[0;34m\u001b[0m\u001b[0m\n",
      "\u001b[0;32mpandas/src/reduce.pyx\u001b[0m in \u001b[0;36mpandas.lib.reduce (pandas/lib.c:43382)\u001b[0;34m()\u001b[0m\n",
      "\u001b[0;32mpandas/src/reduce.pyx\u001b[0m in \u001b[0;36mpandas.lib.Reducer.get_result (pandas/lib.c:33522)\u001b[0;34m()\u001b[0m\n",
      "\u001b[0;32m<ipython-input-97-8606746149f7>\u001b[0m in \u001b[0;36m<lambda>\u001b[0;34m(x)\u001b[0m\n\u001b[1;32m     27\u001b[0m         \u001b[0mself\u001b[0m\u001b[0;34m.\u001b[0m\u001b[0mw\u001b[0m\u001b[0;34m[\u001b[0m\u001b[0;36m1\u001b[0m\u001b[0;34m]\u001b[0m \u001b[0;34m=\u001b[0m \u001b[0mrandom\u001b[0m\u001b[0;34m.\u001b[0m\u001b[0mrandint\u001b[0m\u001b[0;34m(\u001b[0m\u001b[0;34m-\u001b[0m\u001b[0;36m10\u001b[0m\u001b[0;34m,\u001b[0m\u001b[0;36m10\u001b[0m\u001b[0;34m)\u001b[0m\u001b[0;34m\u001b[0m\u001b[0m\n\u001b[1;32m     28\u001b[0m         \u001b[0mself\u001b[0m\u001b[0;34m.\u001b[0m\u001b[0mw\u001b[0m\u001b[0;34m[\u001b[0m\u001b[0;36m2\u001b[0m\u001b[0;34m]\u001b[0m \u001b[0;34m=\u001b[0m \u001b[0mrandom\u001b[0m\u001b[0;34m.\u001b[0m\u001b[0mrandint\u001b[0m\u001b[0;34m(\u001b[0m\u001b[0;34m-\u001b[0m\u001b[0;36m10\u001b[0m\u001b[0;34m,\u001b[0m\u001b[0;36m10\u001b[0m\u001b[0;34m)\u001b[0m\u001b[0;34m\u001b[0m\u001b[0m\n\u001b[0;32m---> 29\u001b[0;31m         \u001b[0;32mwhile\u001b[0m \u001b[0mdf\u001b[0m\u001b[0;34m.\u001b[0m\u001b[0mapply\u001b[0m\u001b[0;34m(\u001b[0m\u001b[0;32mlambda\u001b[0m \u001b[0mx\u001b[0m\u001b[0;34m:\u001b[0m \u001b[0mself\u001b[0m\u001b[0;34m.\u001b[0m\u001b[0mactivate\u001b[0m\u001b[0;34m(\u001b[0m\u001b[0mx\u001b[0m\u001b[0;34m[\u001b[0m\u001b[0;34m'x1'\u001b[0m\u001b[0;34m]\u001b[0m\u001b[0;34m,\u001b[0m\u001b[0mx\u001b[0m\u001b[0;34m[\u001b[0m\u001b[0;34m'x2'\u001b[0m\u001b[0;34m]\u001b[0m\u001b[0;34m,\u001b[0m\u001b[0mx\u001b[0m\u001b[0;34m[\u001b[0m\u001b[0;34m'bias'\u001b[0m\u001b[0;34m]\u001b[0m\u001b[0;34m)\u001b[0m\u001b[0;34m!=\u001b[0m\u001b[0mx\u001b[0m\u001b[0;34m[\u001b[0m\u001b[0;34m't'\u001b[0m\u001b[0;34m]\u001b[0m\u001b[0;34m,\u001b[0m\u001b[0maxis\u001b[0m\u001b[0;34m=\u001b[0m\u001b[0;36m1\u001b[0m\u001b[0;34m)\u001b[0m\u001b[0;34m.\u001b[0m\u001b[0msum\u001b[0m\u001b[0;34m(\u001b[0m\u001b[0;34m)\u001b[0m \u001b[0;34m!=\u001b[0m \u001b[0;36m0\u001b[0m\u001b[0;34m:\u001b[0m\u001b[0;34m\u001b[0m\u001b[0m\n\u001b[0m\u001b[1;32m     30\u001b[0m             \u001b[0mX\u001b[0m \u001b[0;34m=\u001b[0m \u001b[0mnp\u001b[0m\u001b[0;34m.\u001b[0m\u001b[0mmatrix\u001b[0m\u001b[0;34m(\u001b[0m\u001b[0mdf\u001b[0m\u001b[0;34m[\u001b[0m\u001b[0;34m[\u001b[0m\u001b[0;34m'x1'\u001b[0m\u001b[0;34m,\u001b[0m\u001b[0;34m'x2'\u001b[0m\u001b[0;34m,\u001b[0m\u001b[0;34m'bias'\u001b[0m\u001b[0;34m]\u001b[0m\u001b[0;34m]\u001b[0m\u001b[0;34m)\u001b[0m\u001b[0;34m\u001b[0m\u001b[0m\n\u001b[1;32m     31\u001b[0m             \u001b[0mXw\u001b[0m \u001b[0;34m=\u001b[0m \u001b[0mX\u001b[0m\u001b[0;34m*\u001b[0m\u001b[0mnp\u001b[0m\u001b[0;34m.\u001b[0m\u001b[0mmatrix\u001b[0m\u001b[0;34m(\u001b[0m\u001b[0mself\u001b[0m\u001b[0;34m.\u001b[0m\u001b[0mw\u001b[0m\u001b[0;34m)\u001b[0m\u001b[0;34m.\u001b[0m\u001b[0mT\u001b[0m\u001b[0;34m\u001b[0m\u001b[0m\n",
      "\u001b[0;32m/Users/michaelevans/anaconda/lib/python2.7/site-packages/pandas/core/series.pyc\u001b[0m in \u001b[0;36m__getitem__\u001b[0;34m(self, key)\u001b[0m\n\u001b[1;32m    551\u001b[0m             \u001b[0mresult\u001b[0m \u001b[0;34m=\u001b[0m \u001b[0mself\u001b[0m\u001b[0;34m.\u001b[0m\u001b[0mindex\u001b[0m\u001b[0;34m.\u001b[0m\u001b[0mget_value\u001b[0m\u001b[0;34m(\u001b[0m\u001b[0mself\u001b[0m\u001b[0;34m,\u001b[0m \u001b[0mkey\u001b[0m\u001b[0;34m)\u001b[0m\u001b[0;34m\u001b[0m\u001b[0m\n\u001b[1;32m    552\u001b[0m \u001b[0;34m\u001b[0m\u001b[0m\n\u001b[0;32m--> 553\u001b[0;31m             \u001b[0;32mif\u001b[0m \u001b[0;32mnot\u001b[0m \u001b[0mnp\u001b[0m\u001b[0;34m.\u001b[0m\u001b[0misscalar\u001b[0m\u001b[0;34m(\u001b[0m\u001b[0mresult\u001b[0m\u001b[0;34m)\u001b[0m\u001b[0;34m:\u001b[0m\u001b[0;34m\u001b[0m\u001b[0m\n\u001b[0m\u001b[1;32m    554\u001b[0m                 \u001b[0;32mif\u001b[0m \u001b[0mis_list_like\u001b[0m\u001b[0;34m(\u001b[0m\u001b[0mresult\u001b[0m\u001b[0;34m)\u001b[0m \u001b[0;32mand\u001b[0m \u001b[0;32mnot\u001b[0m \u001b[0misinstance\u001b[0m\u001b[0;34m(\u001b[0m\u001b[0mresult\u001b[0m\u001b[0;34m,\u001b[0m \u001b[0mSeries\u001b[0m\u001b[0;34m)\u001b[0m\u001b[0;34m:\u001b[0m\u001b[0;34m\u001b[0m\u001b[0m\n\u001b[1;32m    555\u001b[0m \u001b[0;34m\u001b[0m\u001b[0m\n",
      "\u001b[0;32m/Users/michaelevans/anaconda/lib/python2.7/site-packages/numpy/core/numeric.pyc\u001b[0m in \u001b[0;36misscalar\u001b[0;34m(num)\u001b[0m\n\u001b[1;32m   1964\u001b[0m     \u001b[0;32mreturn\u001b[0m \u001b[0mfunction\u001b[0m\u001b[0;34m(\u001b[0m\u001b[0;34m*\u001b[0m\u001b[0margs\u001b[0m\u001b[0;34m,\u001b[0m\u001b[0;34m**\u001b[0m\u001b[0mkwargs\u001b[0m\u001b[0;34m)\u001b[0m\u001b[0;34m\u001b[0m\u001b[0m\n\u001b[1;32m   1965\u001b[0m \u001b[0;34m\u001b[0m\u001b[0m\n\u001b[0;32m-> 1966\u001b[0;31m \u001b[0;32mdef\u001b[0m \u001b[0misscalar\u001b[0m\u001b[0;34m(\u001b[0m\u001b[0mnum\u001b[0m\u001b[0;34m)\u001b[0m\u001b[0;34m:\u001b[0m\u001b[0;34m\u001b[0m\u001b[0m\n\u001b[0m\u001b[1;32m   1967\u001b[0m     \"\"\"\n\u001b[1;32m   1968\u001b[0m     \u001b[0mReturns\u001b[0m \u001b[0mTrue\u001b[0m \u001b[0;32mif\u001b[0m \u001b[0mthe\u001b[0m \u001b[0mtype\u001b[0m \u001b[0mof\u001b[0m \u001b[0;34m`\u001b[0m\u001b[0mnum\u001b[0m\u001b[0;34m`\u001b[0m \u001b[0;32mis\u001b[0m \u001b[0ma\u001b[0m \u001b[0mscalar\u001b[0m \u001b[0mtype\u001b[0m\u001b[0;34m.\u001b[0m\u001b[0;34m\u001b[0m\u001b[0m\n",
      "\u001b[0;31mKeyboardInterrupt\u001b[0m: "
     ]
    }
   ],
   "source": [
    "p4 = Perceptron()\n",
    "p4.batch_mode(df=df3,n=0.1)"
   ]
  },
  {
   "cell_type": "code",
   "execution_count": 146,
   "metadata": {
    "collapsed": true
   },
   "outputs": [],
   "source": [
    "#If data is not linearly separable, w does not converge"
   ]
  },
  {
   "cell_type": "code",
   "execution_count": 147,
   "metadata": {
    "collapsed": true
   },
   "outputs": [],
   "source": [
    "#Maybe a better criterion would be, terminate if the fraction of predictions\n",
    "#which are correct stops increasing"
   ]
  },
  {
   "cell_type": "code",
   "execution_count": null,
   "metadata": {
    "collapsed": true
   },
   "outputs": [],
   "source": []
  }
 ],
 "metadata": {
  "kernelspec": {
   "display_name": "Python 2",
   "language": "python",
   "name": "python2"
  },
  "language_info": {
   "codemirror_mode": {
    "name": "ipython",
    "version": 2
   },
   "file_extension": ".py",
   "mimetype": "text/x-python",
   "name": "python",
   "nbconvert_exporter": "python",
   "pygments_lexer": "ipython2",
   "version": "2.7.11"
  }
 },
 "nbformat": 4,
 "nbformat_minor": 0
}
